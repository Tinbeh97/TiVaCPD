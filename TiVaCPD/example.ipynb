{
 "cells": [
  {
   "cell_type": "markdown",
   "metadata": {},
   "source": [
    "## Simulate Data:"
   ]
  },
  {
   "cell_type": "code",
   "execution_count": null,
   "metadata": {},
   "outputs": [],
   "source": [
    "!python3 simulate.py --constant_mean False --constant_corr False  --n_samples 10 --constant_var False --exp changing_mean_variance_correlation --num_cp 5"
   ]
  },
  {
   "cell_type": "markdown",
   "metadata": {},
   "source": [
    "## Run Methods"
   ]
  },
  {
   "cell_type": "markdown",
   "metadata": {},
   "source": [
    "_MMDATVGL_CPD_"
   ]
  },
  {
   "cell_type": "code",
   "execution_count": null,
   "metadata": {},
   "outputs": [],
   "source": [
    "!python3 experiments.py --data_path './data/changing_mean_variance_correlation' --exp changing_mean_variance_correlation --model_type MMDATVGL_CPD --slice_size 10"
   ]
  },
  {
   "cell_type": "markdown",
   "metadata": {},
   "source": [
    "_KLCPD_"
   ]
  },
  {
   "cell_type": "code",
   "execution_count": null,
   "metadata": {},
   "outputs": [],
   "source": [
    "!python3 experiments.py --data_path './data/changing_mean_variance_correlation' --exp changing_mean_variance_correlation --model_type KLCPD "
   ]
  },
  {
   "cell_type": "markdown",
   "metadata": {},
   "source": [
    "_GRAPHTIME_CPD_"
   ]
  },
  {
   "cell_type": "code",
   "execution_count": null,
   "metadata": {},
   "outputs": [],
   "source": [
    "!python3 experiments.py --data_path './data/changing_mean_variance_correlation' --exp changing_mean_variance_correlation --model_type GRAPHTIME_CPD "
   ]
  },
  {
   "cell_type": "markdown",
   "metadata": {},
   "source": [
    "_Roerich_"
   ]
  },
  {
   "cell_type": "code",
   "execution_count": null,
   "metadata": {},
   "outputs": [],
   "source": [
    "!python3 experiments.py --data_path './data/changing_mean_variance_correlation' --exp changing_mean_variance_correlation --model_type roerich"
   ]
  },
  {
   "cell_type": "markdown",
   "metadata": {},
   "source": [
    "Ruptures"
   ]
  },
  {
   "cell_type": "code",
   "execution_count": null,
   "metadata": {},
   "outputs": [],
   "source": [
    "!python3 experiments.py --data_path './data/changing_mean_variance_correlation' --exp changing_mean_variance_correlation --model_type ruptures"
   ]
  },
  {
   "cell_type": "markdown",
   "metadata": {},
   "source": [
    "## Visualize Results"
   ]
  },
  {
   "cell_type": "code",
   "execution_count": null,
   "metadata": {},
   "outputs": [],
   "source": []
  }
 ],
 "metadata": {
  "kernelspec": {
   "display_name": "Python 3.9.5 64-bit",
   "name": "python395jvsc74a57bd0a8bab15b8390494538736be73eaebd9e09ab677c4d87a212cb0b186072fe5e1d"
  },
  "language_info": {
   "name": "python",
   "version": ""
  },
  "orig_nbformat": 2
 },
 "nbformat": 4,
 "nbformat_minor": 2
}